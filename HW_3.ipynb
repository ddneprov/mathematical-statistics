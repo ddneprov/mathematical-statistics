{
 "cells": [
  {
   "cell_type": "markdown",
   "metadata": {},
   "source": [
    "### Домашнее задание №3\n",
    "\n",
    "ДНЕПРОВ ДАНИЛА (2 вариант)\n",
    "\n",
    "n — номер наблюдения,\n",
    "id — идентификатор ролика,\n",
    "\n",
    "framerate — число кадров в секунду,\n",
    "frames — общее число кадров в видео,\n",
    "bitrate — битрейт, Кбит/сек.\n",
    "duration — продолжительность, сек.\n",
    "size — размер видеофайла, байт."
   ]
  },
  {
   "cell_type": "code",
   "execution_count": 34,
   "metadata": {},
   "outputs": [],
   "source": [
    "import numpy as np\n",
    "import pandas as pd\n",
    "import matplotlib.pyplot as plt\n",
    "import scipy.stats as stats\n",
    "\n",
    "%matplotlib inline"
   ]
  },
  {
   "cell_type": "markdown",
   "metadata": {},
   "source": [
    "Возьмем данные и построим две корреляционные таблицы (Спирмена https://en.wikipedia.org/wiki/Spearman%27s_rank_correlation_coefficient и Пирсона https://en.wikipedia.org/wiki/Pearson_correlation_coefficient)"
   ]
  },
  {
   "cell_type": "code",
   "execution_count": 42,
   "metadata": {},
   "outputs": [],
   "source": [
    "data = pd.read_csv('youtube_2.csv')"
   ]
  },
  {
   "cell_type": "code",
   "execution_count": 43,
   "metadata": {},
   "outputs": [],
   "source": [
    "data.drop(columns=['id', 'N'], inplace=True)"
   ]
  },
  {
   "cell_type": "code",
   "execution_count": 55,
   "metadata": {},
   "outputs": [
    {
     "data": {
      "text/html": [
       "<div>\n",
       "<style scoped>\n",
       "    .dataframe tbody tr th:only-of-type {\n",
       "        vertical-align: middle;\n",
       "    }\n",
       "\n",
       "    .dataframe tbody tr th {\n",
       "        vertical-align: top;\n",
       "    }\n",
       "\n",
       "    .dataframe thead th {\n",
       "        text-align: right;\n",
       "    }\n",
       "</style>\n",
       "<table border=\"1\" class=\"dataframe\">\n",
       "  <thead>\n",
       "    <tr style=\"text-align: right;\">\n",
       "      <th></th>\n",
       "      <th>framerate</th>\n",
       "      <th>frames</th>\n",
       "      <th>bitrate</th>\n",
       "      <th>duration</th>\n",
       "      <th>size</th>\n",
       "    </tr>\n",
       "  </thead>\n",
       "  <tbody>\n",
       "    <tr>\n",
       "      <th>framerate</th>\n",
       "      <td>1.000000</td>\n",
       "      <td>0.244193</td>\n",
       "      <td>0.460516</td>\n",
       "      <td>0.101212</td>\n",
       "      <td>0.311067</td>\n",
       "    </tr>\n",
       "    <tr>\n",
       "      <th>frames</th>\n",
       "      <td>0.244193</td>\n",
       "      <td>1.000000</td>\n",
       "      <td>-0.036027</td>\n",
       "      <td>0.974489</td>\n",
       "      <td>0.790610</td>\n",
       "    </tr>\n",
       "    <tr>\n",
       "      <th>bitrate</th>\n",
       "      <td>0.460516</td>\n",
       "      <td>-0.036027</td>\n",
       "      <td>1.000000</td>\n",
       "      <td>-0.095275</td>\n",
       "      <td>0.410732</td>\n",
       "    </tr>\n",
       "    <tr>\n",
       "      <th>duration</th>\n",
       "      <td>0.101212</td>\n",
       "      <td>0.974489</td>\n",
       "      <td>-0.095275</td>\n",
       "      <td>1.000000</td>\n",
       "      <td>0.749226</td>\n",
       "    </tr>\n",
       "    <tr>\n",
       "      <th>size</th>\n",
       "      <td>0.311067</td>\n",
       "      <td>0.790610</td>\n",
       "      <td>0.410732</td>\n",
       "      <td>0.749226</td>\n",
       "      <td>1.000000</td>\n",
       "    </tr>\n",
       "  </tbody>\n",
       "</table>\n",
       "</div>"
      ],
      "text/plain": [
       "           framerate    frames   bitrate  duration      size\n",
       "framerate   1.000000  0.244193  0.460516  0.101212  0.311067\n",
       "frames      0.244193  1.000000 -0.036027  0.974489  0.790610\n",
       "bitrate     0.460516 -0.036027  1.000000 -0.095275  0.410732\n",
       "duration    0.101212  0.974489 -0.095275  1.000000  0.749226\n",
       "size        0.311067  0.790610  0.410732  0.749226  1.000000"
      ]
     },
     "execution_count": 55,
     "metadata": {},
     "output_type": "execute_result"
    }
   ],
   "source": [
    "data.corr(method='pearson')"
   ]
  },
  {
   "cell_type": "code",
   "execution_count": 56,
   "metadata": {},
   "outputs": [
    {
     "data": {
      "text/html": [
       "<div>\n",
       "<style scoped>\n",
       "    .dataframe tbody tr th:only-of-type {\n",
       "        vertical-align: middle;\n",
       "    }\n",
       "\n",
       "    .dataframe tbody tr th {\n",
       "        vertical-align: top;\n",
       "    }\n",
       "\n",
       "    .dataframe thead th {\n",
       "        text-align: right;\n",
       "    }\n",
       "</style>\n",
       "<table border=\"1\" class=\"dataframe\">\n",
       "  <thead>\n",
       "    <tr style=\"text-align: right;\">\n",
       "      <th></th>\n",
       "      <th>framerate</th>\n",
       "      <th>frames</th>\n",
       "      <th>bitrate</th>\n",
       "      <th>duration</th>\n",
       "      <th>size</th>\n",
       "    </tr>\n",
       "  </thead>\n",
       "  <tbody>\n",
       "    <tr>\n",
       "      <th>framerate</th>\n",
       "      <td>1.000000</td>\n",
       "      <td>0.350187</td>\n",
       "      <td>0.646973</td>\n",
       "      <td>0.004589</td>\n",
       "      <td>0.532503</td>\n",
       "    </tr>\n",
       "    <tr>\n",
       "      <th>frames</th>\n",
       "      <td>0.350187</td>\n",
       "      <td>1.000000</td>\n",
       "      <td>0.218638</td>\n",
       "      <td>0.914743</td>\n",
       "      <td>0.691965</td>\n",
       "    </tr>\n",
       "    <tr>\n",
       "      <th>bitrate</th>\n",
       "      <td>0.646973</td>\n",
       "      <td>0.218638</td>\n",
       "      <td>1.000000</td>\n",
       "      <td>-0.051917</td>\n",
       "      <td>0.807417</td>\n",
       "    </tr>\n",
       "    <tr>\n",
       "      <th>duration</th>\n",
       "      <td>0.004589</td>\n",
       "      <td>0.914743</td>\n",
       "      <td>-0.051917</td>\n",
       "      <td>1.000000</td>\n",
       "      <td>0.502262</td>\n",
       "    </tr>\n",
       "    <tr>\n",
       "      <th>size</th>\n",
       "      <td>0.532503</td>\n",
       "      <td>0.691965</td>\n",
       "      <td>0.807417</td>\n",
       "      <td>0.502262</td>\n",
       "      <td>1.000000</td>\n",
       "    </tr>\n",
       "  </tbody>\n",
       "</table>\n",
       "</div>"
      ],
      "text/plain": [
       "           framerate    frames   bitrate  duration      size\n",
       "framerate   1.000000  0.350187  0.646973  0.004589  0.532503\n",
       "frames      0.350187  1.000000  0.218638  0.914743  0.691965\n",
       "bitrate     0.646973  0.218638  1.000000 -0.051917  0.807417\n",
       "duration    0.004589  0.914743 -0.051917  1.000000  0.502262\n",
       "size        0.532503  0.691965  0.807417  0.502262  1.000000"
      ]
     },
     "execution_count": 56,
     "metadata": {},
     "output_type": "execute_result"
    }
   ],
   "source": [
    "data.corr(method='spearman')"
   ]
  },
  {
   "cell_type": "code",
   "execution_count": 50,
   "metadata": {},
   "outputs": [],
   "source": [
    "data.corr(method='pearson').to_csv('corrPearson.csv') # выгружаем в таблцы\n",
    "data.corr(method='spearman').to_csv('corrSpearman.csv')"
   ]
  },
  {
   "cell_type": "markdown",
   "metadata": {},
   "source": [
    "Далее оценим значимость каждого коэффициента:\n",
    "    * — коэффициент значим на уровне 5%,\n",
    "    ** — коэффициент значим на уровне 1%,\n",
    "    *** — коэффициент значим на уровне 0.1%.\n"
   ]
  },
  {
   "cell_type": "markdown",
   "metadata": {},
   "source": [
    "$$t = \\frac{r * \\sqrt{(n-2)}}{\\sqrt{(1 - r^2)}}$$"
   ]
  },
  {
   "cell_type": "code",
   "execution_count": 51,
   "metadata": {},
   "outputs": [],
   "source": [
    "corrPearson = pd.read_csv('corrPearson.csv')\n",
    "corrSpearman = pd.read_csv('corrSpearman.csv')"
   ]
  },
  {
   "cell_type": "code",
   "execution_count": 52,
   "metadata": {},
   "outputs": [
    {
     "data": {
      "text/html": [
       "<div>\n",
       "<style scoped>\n",
       "    .dataframe tbody tr th:only-of-type {\n",
       "        vertical-align: middle;\n",
       "    }\n",
       "\n",
       "    .dataframe tbody tr th {\n",
       "        vertical-align: top;\n",
       "    }\n",
       "\n",
       "    .dataframe thead th {\n",
       "        text-align: right;\n",
       "    }\n",
       "</style>\n",
       "<table border=\"1\" class=\"dataframe\">\n",
       "  <thead>\n",
       "    <tr style=\"text-align: right;\">\n",
       "      <th></th>\n",
       "      <th>framerate</th>\n",
       "      <th>frames</th>\n",
       "      <th>bitrate</th>\n",
       "      <th>duration</th>\n",
       "      <th>size</th>\n",
       "    </tr>\n",
       "  </thead>\n",
       "  <tbody>\n",
       "    <tr>\n",
       "      <th>framerate</th>\n",
       "      <td>1.0</td>\n",
       "      <td>*0.244</td>\n",
       "      <td>***0.461</td>\n",
       "      <td>0.101</td>\n",
       "      <td>**0.311</td>\n",
       "    </tr>\n",
       "    <tr>\n",
       "      <th>frames</th>\n",
       "      <td>*0.244</td>\n",
       "      <td>1.0</td>\n",
       "      <td>-0.036</td>\n",
       "      <td>***0.974</td>\n",
       "      <td>***0.791</td>\n",
       "    </tr>\n",
       "    <tr>\n",
       "      <th>bitrate</th>\n",
       "      <td>***0.461</td>\n",
       "      <td>-0.036</td>\n",
       "      <td>1.0</td>\n",
       "      <td>-0.095</td>\n",
       "      <td>***0.411</td>\n",
       "    </tr>\n",
       "    <tr>\n",
       "      <th>duration</th>\n",
       "      <td>0.101</td>\n",
       "      <td>***0.974</td>\n",
       "      <td>-0.095</td>\n",
       "      <td>1.0</td>\n",
       "      <td>***0.749</td>\n",
       "    </tr>\n",
       "    <tr>\n",
       "      <th>size</th>\n",
       "      <td>**0.311</td>\n",
       "      <td>***0.791</td>\n",
       "      <td>***0.411</td>\n",
       "      <td>***0.749</td>\n",
       "      <td>1.0</td>\n",
       "    </tr>\n",
       "  </tbody>\n",
       "</table>\n",
       "</div>"
      ],
      "text/plain": [
       "          framerate    frames   bitrate  duration      size\n",
       "framerate       1.0    *0.244  ***0.461     0.101   **0.311\n",
       "frames       *0.244       1.0    -0.036  ***0.974  ***0.791\n",
       "bitrate    ***0.461    -0.036       1.0    -0.095  ***0.411\n",
       "duration      0.101  ***0.974    -0.095       1.0  ***0.749\n",
       "size        **0.311  ***0.791  ***0.411  ***0.749       1.0"
      ]
     },
     "execution_count": 52,
     "metadata": {},
     "output_type": "execute_result"
    }
   ],
   "source": [
    "corrArray = np.empty([data.shape[1], data.shape[1]], dtype='object')\n",
    "i, j = 0, 0\n",
    "for name in data.columns:\n",
    "    for name2 in data.columns:\n",
    "        corrArray[i][j] = str(np.round(data.corr(method='pearson')[name][name2], decimals=3))\n",
    "        if(name != name2):\n",
    "            t = np.abs(float(corrArray[i][j]) * np.sqrt(data.shape[0] - 2) / np.sqrt(1 - float(corrArray[i][j])**2))\n",
    "            t5 = stats.t.ppf(0.975, data.shape[0] - 2)\n",
    "            t1 = stats.t.ppf(0.995, data.shape[0] - 2)\n",
    "            t01 = stats.t.ppf(0.9995, data.shape[0] - 2)\n",
    "            if(t > t01):\n",
    "                    corrArray[i][j] = '***' + corrArray[i][j] \n",
    "            elif(t > t1):\n",
    "                 corrArray[i][j] = '**' + corrArray[i][j]\n",
    "            elif(t > t5):\n",
    "                 corrArray[i][j] = '*' + corrArray[i][j]\n",
    "        j += 1\n",
    "    i += 1\n",
    "    j = 0\n",
    "corrPearson = pd.DataFrame(data=corrArray, index=data.columns, columns=data.columns)\n",
    "corrPearson.head()"
   ]
  },
  {
   "cell_type": "code",
   "execution_count": 60,
   "metadata": {},
   "outputs": [
    {
     "data": {
      "text/html": [
       "<div>\n",
       "<style scoped>\n",
       "    .dataframe tbody tr th:only-of-type {\n",
       "        vertical-align: middle;\n",
       "    }\n",
       "\n",
       "    .dataframe tbody tr th {\n",
       "        vertical-align: top;\n",
       "    }\n",
       "\n",
       "    .dataframe thead th {\n",
       "        text-align: right;\n",
       "    }\n",
       "</style>\n",
       "<table border=\"1\" class=\"dataframe\">\n",
       "  <thead>\n",
       "    <tr style=\"text-align: right;\">\n",
       "      <th></th>\n",
       "      <th>framerate</th>\n",
       "      <th>frames</th>\n",
       "      <th>bitrate</th>\n",
       "      <th>duration</th>\n",
       "      <th>size</th>\n",
       "    </tr>\n",
       "  </thead>\n",
       "  <tbody>\n",
       "    <tr>\n",
       "      <th>framerate</th>\n",
       "      <td>1.0</td>\n",
       "      <td>***0.35</td>\n",
       "      <td>***0.647</td>\n",
       "      <td>0.005</td>\n",
       "      <td>***0.533</td>\n",
       "    </tr>\n",
       "    <tr>\n",
       "      <th>frames</th>\n",
       "      <td>***0.35</td>\n",
       "      <td>1.0</td>\n",
       "      <td>*0.219</td>\n",
       "      <td>***0.915</td>\n",
       "      <td>***0.692</td>\n",
       "    </tr>\n",
       "    <tr>\n",
       "      <th>bitrate</th>\n",
       "      <td>***0.647</td>\n",
       "      <td>*0.219</td>\n",
       "      <td>1.0</td>\n",
       "      <td>-0.052</td>\n",
       "      <td>***0.807</td>\n",
       "    </tr>\n",
       "    <tr>\n",
       "      <th>duration</th>\n",
       "      <td>0.005</td>\n",
       "      <td>***0.915</td>\n",
       "      <td>-0.052</td>\n",
       "      <td>1.0</td>\n",
       "      <td>***0.502</td>\n",
       "    </tr>\n",
       "    <tr>\n",
       "      <th>size</th>\n",
       "      <td>***0.533</td>\n",
       "      <td>***0.692</td>\n",
       "      <td>***0.807</td>\n",
       "      <td>***0.502</td>\n",
       "      <td>1.0</td>\n",
       "    </tr>\n",
       "  </tbody>\n",
       "</table>\n",
       "</div>"
      ],
      "text/plain": [
       "          framerate    frames   bitrate  duration      size\n",
       "framerate       1.0   ***0.35  ***0.647     0.005  ***0.533\n",
       "frames      ***0.35       1.0    *0.219  ***0.915  ***0.692\n",
       "bitrate    ***0.647    *0.219       1.0    -0.052  ***0.807\n",
       "duration      0.005  ***0.915    -0.052       1.0  ***0.502\n",
       "size       ***0.533  ***0.692  ***0.807  ***0.502       1.0"
      ]
     },
     "execution_count": 60,
     "metadata": {},
     "output_type": "execute_result"
    }
   ],
   "source": [
    "corrArray = np.empty([data.shape[1], data.shape[1]], dtype='object')\n",
    "i, j = 0, 0\n",
    "for name in data.columns:\n",
    "    for name2 in data.columns:\n",
    "        corrArray[i][j] = str(np.round(data.corr(method='spearman')[name][name2], decimals=3))\n",
    "        if(name != name2):\n",
    "            t = np.abs(float(corrArray[i][j]) * np.sqrt(data.shape[0] - 2) / np.sqrt(1 - float(corrArray[i][j])**2))\n",
    "            t5 = stats.t.ppf(0.975, data.shape[0] - 2)\n",
    "            t1 = stats.t.ppf(0.995, data.shape[0] - 2)\n",
    "            t01 = stats.t.ppf(0.9995, data.shape[0] - 2)\n",
    "            if(t > t01):\n",
    "                corrArray[i][j] = '***' + corrArray[i][j] \n",
    "            elif(t > t1):\n",
    "                 corrArray[i][j] = '**' + corrArray[i][j]\n",
    "            elif(t > t5):\n",
    "                 corrArray[i][j] = '*' + corrArray[i][j]\n",
    "        j += 1\n",
    "    i += 1\n",
    "    j = 0\n",
    "corrSpearman = pd.DataFrame(data=corrArray, index=data.columns, columns=data.columns)\n",
    "corrSpearman.head()"
   ]
  },
  {
   "cell_type": "markdown",
   "metadata": {},
   "source": [
    "Самая большая разница коэффициентов у признаков bitrate и size. Построим диграмму рассеивания"
   ]
  },
  {
   "cell_type": "code",
   "execution_count": 62,
   "metadata": {},
   "outputs": [
    {
     "data": {
      "image/png": "[encoded data removed]",
      "text/plain": [
       "<Figure size 432x288 with 1 Axes>"
      ]
     },
     "metadata": {
      "needs_background": "light"
     },
     "output_type": "display_data"
    }
   ],
   "source": [
    "x = data['bitrate']\n",
    "y = data['size']\n",
    "\n",
    "plt.scatter(x, y)\n",
    "plt.show()"
   ]
  },
  {
   "cell_type": "code",
   "execution_count": null,
   "metadata": {},
   "outputs": [],
   "source": []
  }
 ],
 "metadata": {
  "kernelspec": {
   "display_name": "Python 3",
   "language": "python",
   "name": "python3"
  },
  "language_info": {
   "codemirror_mode": {
    "name": "ipython",
    "version": 3
   },
   "file_extension": ".py",
   "mimetype": "text/x-python",
   "name": "python",
   "nbconvert_exporter": "python",
   "pygments_lexer": "ipython3",
   "version": "3.7.1"
  }
 },
 "nbformat": 4,
 "nbformat_minor": 2
}
