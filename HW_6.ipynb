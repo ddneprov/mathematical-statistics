{
 "cells": [
  {
   "cell_type": "code",
   "execution_count": 18,
   "metadata": {},
   "outputs": [
    {
     "name": "stdout",
     "output_type": "stream",
     "text": [
      "Requirement already satisfied: ezodf in /Users/dneprovdanila/anaconda3/lib/python3.7/site-packages (0.3.2)\n",
      "Requirement already satisfied: pyclustering in /Users/dneprovdanila/anaconda3/lib/python3.7/site-packages (0.9.0)\n",
      "Requirement already satisfied: matplotlib in /Users/dneprovdanila/anaconda3/lib/python3.7/site-packages (from pyclustering) (3.0.2)\n",
      "Requirement already satisfied: Pillow in /Users/dneprovdanila/anaconda3/lib/python3.7/site-packages (from pyclustering) (5.3.0)\n",
      "Requirement already satisfied: numpy in /Users/dneprovdanila/anaconda3/lib/python3.7/site-packages (from pyclustering) (1.15.4)\n",
      "Requirement already satisfied: scipy in /Users/dneprovdanila/anaconda3/lib/python3.7/site-packages (from pyclustering) (1.1.0)\n",
      "Requirement already satisfied: cycler>=0.10 in /Users/dneprovdanila/anaconda3/lib/python3.7/site-packages (from matplotlib->pyclustering) (0.10.0)\n",
      "Requirement already satisfied: kiwisolver>=1.0.1 in /Users/dneprovdanila/anaconda3/lib/python3.7/site-packages (from matplotlib->pyclustering) (1.0.1)\n",
      "Requirement already satisfied: pyparsing!=2.0.4,!=2.1.2,!=2.1.6,>=2.0.1 in /Users/dneprovdanila/anaconda3/lib/python3.7/site-packages (from matplotlib->pyclustering) (2.3.0)\n",
      "Requirement already satisfied: python-dateutil>=2.1 in /Users/dneprovdanila/anaconda3/lib/python3.7/site-packages (from matplotlib->pyclustering) (2.7.5)\n",
      "Requirement already satisfied: six in /Users/dneprovdanila/anaconda3/lib/python3.7/site-packages (from cycler>=0.10->matplotlib->pyclustering) (1.12.0)\n",
      "Requirement already satisfied: setuptools in /Users/dneprovdanila/anaconda3/lib/python3.7/site-packages (from kiwisolver>=1.0.1->matplotlib->pyclustering) (40.6.3)\n"
     ]
    }
   ],
   "source": [
    "from sklearn.cluster import KMeans\n",
    "import numpy as np\n",
    "import matplotlib.pyplot as plt\n",
    "import sys\n",
    "!{sys.executable} -m pip install ezodf\n",
    "!{sys.executable} -m pip install pyclustering\n",
    "import pandas as pd\n",
    "import ezodf\n",
    "\n",
    "var_x = 'x2'\n",
    "var_y = 'y2'\n",
    "var = 5"
   ]
  },
  {
   "cell_type": "code",
   "execution_count": 21,
   "metadata": {},
   "outputs": [
    {
     "name": "stdout",
     "output_type": "stream",
     "text": [
      "Spreadsheet contains 1 sheet(s).\n",
      "----------------------------------------\n",
      "   Sheet name : 'Лист1'\n",
      "Size of Sheet : (rows=374, cols=22)\n"
     ]
    }
   ],
   "source": [
    "doc = ezodf.opendoc('data.ods')\n",
    "\n",
    "print(\"Spreadsheet contains %d sheet(s).\" % len(doc.sheets))\n",
    "for sheet in doc.sheets:\n",
    "    print(\"-\"*40)\n",
    "    print(\"   Sheet name : '%s'\" % sheet.name)\n",
    "    print(\"Size of Sheet : (rows=%d, cols=%d)\" % (sheet.nrows(), sheet.ncols()) )\n",
    "\n",
    "sheet = doc.sheets[0]\n",
    "df_dict = {}\n",
    "for i, row in enumerate(sheet.rows()):\n",
    "    if i == 0:\n",
    "        df_dict = {cell.value:[] for cell in row}\n",
    "        col_index = {j:cell.value for j, cell in enumerate(row)}\n",
    "        continue\n",
    "    q = 0 \n",
    "    for j, cell in enumerate(row):\n",
    "        if q < var*2+1:\n",
    "            df_dict[col_index[j]].append(cell.value)\n",
    "            q+=1\n",
    "df_dict = {var_x  : df_dict[var_x],var_y  : df_dict[var_y] }\n",
    "df = pd.DataFrame(df_dict)\n",
    "df = df[df[var_x] >= 0]"
   ]
  },
  {
   "cell_type": "code",
   "execution_count": 22,
   "metadata": {},
   "outputs": [
    {
     "data": {
      "text/html": [
       "<div>\n",
       "<style scoped>\n",
       "    .dataframe tbody tr th:only-of-type {\n",
       "        vertical-align: middle;\n",
       "    }\n",
       "\n",
       "    .dataframe tbody tr th {\n",
       "        vertical-align: top;\n",
       "    }\n",
       "\n",
       "    .dataframe thead th {\n",
       "        text-align: right;\n",
       "    }\n",
       "</style>\n",
       "<table border=\"1\" class=\"dataframe\">\n",
       "  <thead>\n",
       "    <tr style=\"text-align: right;\">\n",
       "      <th></th>\n",
       "      <th>x2</th>\n",
       "      <th>y2</th>\n",
       "    </tr>\n",
       "  </thead>\n",
       "  <tbody>\n",
       "    <tr>\n",
       "      <th>0</th>\n",
       "      <td>70.0</td>\n",
       "      <td>0.0</td>\n",
       "    </tr>\n",
       "    <tr>\n",
       "      <th>1</th>\n",
       "      <td>88.0</td>\n",
       "      <td>0.0</td>\n",
       "    </tr>\n",
       "    <tr>\n",
       "      <th>2</th>\n",
       "      <td>37.0</td>\n",
       "      <td>2.0</td>\n",
       "    </tr>\n",
       "    <tr>\n",
       "      <th>3</th>\n",
       "      <td>94.0</td>\n",
       "      <td>2.0</td>\n",
       "    </tr>\n",
       "    <tr>\n",
       "      <th>4</th>\n",
       "      <td>51.0</td>\n",
       "      <td>3.0</td>\n",
       "    </tr>\n",
       "  </tbody>\n",
       "</table>\n",
       "</div>"
      ],
      "text/plain": [
       "     x2   y2\n",
       "0  70.0  0.0\n",
       "1  88.0  0.0\n",
       "2  37.0  2.0\n",
       "3  94.0  2.0\n",
       "4  51.0  3.0"
      ]
     },
     "execution_count": 22,
     "metadata": {},
     "output_type": "execute_result"
    }
   ],
   "source": [
    "df.head()"
   ]
  },
  {
   "cell_type": "code",
   "execution_count": 23,
   "metadata": {},
   "outputs": [
    {
     "data": {
      "image/png": "[encoded data removed]",
      "text/plain": [
       "<Figure size 432x288 with 1 Axes>"
      ]
     },
     "metadata": {
      "needs_background": "light"
     },
     "output_type": "display_data"
    }
   ],
   "source": [
    "kmeans_2 = KMeans(init='random', n_clusters=2, n_init=10).fit(df)\n",
    "kmeans_2.labels_\n",
    "first_x = []\n",
    "first_y = []\n",
    "second_x = []\n",
    "second_y = []\n",
    "for i in range(len(kmeans_2.labels_)):\n",
    "    if kmeans_2.labels_[i] == 1:\n",
    "        first_x.append(df.loc[i][var_x])\n",
    "        first_y.append(df.loc[i][var_y])\n",
    "    if kmeans_2.labels_[i] == 0:\n",
    "        second_x.append(df.loc[i][var_x])\n",
    "        second_y.append(df.loc[i][var_y])\n",
    "        \n",
    "\n",
    "plt.scatter(first_x, first_y, None, \"red\")\n",
    "plt.scatter(second_x, second_y)\n",
    "plt.xlabel(u\"х\")\n",
    "plt.ylabel(u\"у\")\n",
    "plt.title(\"Метод k-cредних; k=2\")\n",
    "plt.savefig(\"2sr.png\")        \n",
    "plt.show()\n"
   ]
  },
  {
   "cell_type": "code",
   "execution_count": 24,
   "metadata": {},
   "outputs": [
    {
     "data": {
      "image/png": "[encoded data removed]",
      "text/plain": [
       "<Figure size 432x288 with 1 Axes>"
      ]
     },
     "metadata": {
      "needs_background": "light"
     },
     "output_type": "display_data"
    }
   ],
   "source": [
    "kmeans_2 = KMeans(init='random', n_clusters=3, n_init=10).fit(df)\n",
    "kmeans_2.labels_\n",
    "first_x = []\n",
    "first_y = []\n",
    "second_x = []\n",
    "second_y = []\n",
    "third_x = []\n",
    "third_y = []\n",
    "for i in range(len(kmeans_2.labels_)):\n",
    "    if kmeans_2.labels_[i] == 1:\n",
    "        first_x.append(df.loc[i][var_x])\n",
    "        first_y.append(df.loc[i][var_y])\n",
    "    if kmeans_2.labels_[i] == 0:\n",
    "        second_x.append(df.loc[i][var_x])\n",
    "        second_y.append(df.loc[i][var_y])\n",
    "    if kmeans_2.labels_[i] == 2:\n",
    "        third_x.append(df.loc[i][var_x])\n",
    "        third_y.append(df.loc[i][var_y])\n",
    "        \n",
    "\n",
    "plt.scatter(first_x, first_y, c=\"red\")\n",
    "plt.scatter(second_x, second_y)\n",
    "plt.scatter(third_x, third_y)\n",
    "plt.xlabel(u\"х\")\n",
    "plt.ylabel(u\"у\")\n",
    "plt.title(\"Метод k-cредних; k=3\")\n",
    "plt.savefig(\"3sr.png\")        \n",
    "plt.show()\n"
   ]
  },
  {
   "cell_type": "code",
   "execution_count": 25,
   "metadata": {},
   "outputs": [
    {
     "data": {
      "image/png": "[encoded data removed]",
      "text/plain": [
       "<Figure size 432x288 with 1 Axes>"
      ]
     },
     "metadata": {
      "needs_background": "light"
     },
     "output_type": "display_data"
    }
   ],
   "source": [
    "kmeans_2 = KMeans(init='random', n_clusters=4, n_init=10).fit(df)\n",
    "kmeans_2.labels_\n",
    "first_x = []\n",
    "first_y = []\n",
    "second_x = []\n",
    "second_y = []\n",
    "third_x = []\n",
    "third_y = []\n",
    "forth_x = []\n",
    "forth_y = []\n",
    "for i in range(len(kmeans_2.labels_)):\n",
    "    if kmeans_2.labels_[i] == 1:\n",
    "        first_x.append(df.loc[i][var_x])\n",
    "        first_y.append(df.loc[i][var_y])\n",
    "    if kmeans_2.labels_[i] == 0:\n",
    "        second_x.append(df.loc[i][var_x])\n",
    "        second_y.append(df.loc[i][var_y])\n",
    "    if kmeans_2.labels_[i] == 2:\n",
    "        third_x.append(df.loc[i][var_x])\n",
    "        third_y.append(df.loc[i][var_y])\n",
    "    if kmeans_2.labels_[i] == 3:\n",
    "        forth_x.append(df.loc[i][var_x])\n",
    "        forth_y.append(df.loc[i][var_y])    \n",
    "        \n",
    "\n",
    "plt.scatter(first_x, first_y)\n",
    "plt.scatter(second_x, second_y)\n",
    "plt.scatter(third_x, third_y, c=\"yellow\")\n",
    "plt.scatter(forth_x, forth_y)\n",
    "plt.xlabel(u\"х\")\n",
    "plt.ylabel(u\"у\")\n",
    "plt.title(\"Метод k-cредних; k=4\")\n",
    "plt.savefig(\"4sr.png\")        \n",
    "plt.show()\n"
   ]
  },
  {
   "cell_type": "code",
   "execution_count": 26,
   "metadata": {},
   "outputs": [],
   "source": [
    "data = []\n",
    "for i in range(len(kmeans_2.labels_)):\n",
    "    data.append([df.loc[i][var_x],df.loc[i][var_y]])"
   ]
  },
  {
   "cell_type": "code",
   "execution_count": 27,
   "metadata": {},
   "outputs": [
    {
     "data": {
      "image/png": "[encoded data removed]",
      "text/plain": [
       "<Figure size 432x288 with 1 Axes>"
      ]
     },
     "metadata": {
      "needs_background": "light"
     },
     "output_type": "display_data"
    }
   ],
   "source": [
    "from pyclustering.cluster.kmedians import kmedians\n",
    "from pyclustering.cluster import cluster_visualizer\n",
    "sample = data\n",
    "initial_medians = [[df.iloc[0][var_x], df.iloc[0][var_y]], [df.iloc[220][var_x], df.iloc[220][var_y]]]\n",
    "kmedians_instance = kmedians(sample, initial_medians)\n",
    "kmedians_instance.process()\n",
    "clusters = kmedians_instance.get_clusters()\n",
    "medians = kmedians_instance.get_medians()\n",
    "visualizer = cluster_visualizer()\n",
    "visualizer.append_clusters(clusters, sample)\n",
    "\n",
    "first_x = []\n",
    "first_y = []\n",
    "second_x = []\n",
    "second_y = []\n",
    "\n",
    "for i in clusters[0]:\n",
    "    first_x.append(df.loc[i][var_x])\n",
    "    first_y.append(df.loc[i][var_y])\n",
    "for i in clusters[1]:\n",
    "    second_x.append(df.loc[i][var_x])\n",
    "    second_y.append(df.loc[i][var_y])\n",
    "   \n",
    "        \n",
    "\n",
    "plt.scatter(first_x, first_y)\n",
    "plt.scatter(second_x, second_y)\n",
    "plt.xlabel(u\"х\")\n",
    "plt.ylabel(u\"у\")\n",
    "plt.title(\"Метод k-медиан; k=2\")\n",
    "plt.savefig(\"2m.png\")\n",
    "plt.show()\n"
   ]
  },
  {
   "cell_type": "code",
   "execution_count": 28,
   "metadata": {},
   "outputs": [
    {
     "data": {
      "image/png": "[encoded data removed]",
      "text/plain": [
       "<Figure size 432x288 with 1 Axes>"
      ]
     },
     "metadata": {
      "needs_background": "light"
     },
     "output_type": "display_data"
    }
   ],
   "source": [
    "sample = data\n",
    "initial_medians = [[df.iloc[0][var_x], df.iloc[0][var_y]], [df.iloc[220][var_x], df.iloc[220][var_y]], [df.iloc[110][var_x], df.iloc[110][var_y]]]\n",
    "kmedians_instance = kmedians(sample, initial_medians)\n",
    "kmedians_instance.process()\n",
    "clusters = kmedians_instance.get_clusters()\n",
    "medians = kmedians_instance.get_medians()\n",
    "visualizer = cluster_visualizer()\n",
    "visualizer.append_clusters(clusters, sample)\n",
    "\n",
    "first_x = []\n",
    "first_y = []\n",
    "second_x = []\n",
    "second_y = []\n",
    "third_x = []\n",
    "third_y = []\n",
    "\n",
    "for i in clusters[0]:\n",
    "    first_x.append(df.loc[i][var_x])\n",
    "    first_y.append(df.loc[i][var_y])\n",
    "for i in clusters[1]:\n",
    "    second_x.append(df.loc[i][var_x])\n",
    "    second_y.append(df.loc[i][var_y])\n",
    "for i in clusters[2]:\n",
    "    third_x.append(df.loc[i][var_x])\n",
    "    third_y.append(df.loc[i][var_y])\n",
    "   \n",
    "        \n",
    "\n",
    "plt.scatter(first_x, first_y)\n",
    "plt.scatter(second_x, second_y)\n",
    "plt.scatter(third_x, third_y)\n",
    "plt.xlabel(u\"х\")\n",
    "plt.ylabel(u\"у\")\n",
    "plt.title(\"Метод k-медиан; k=3\")\n",
    "plt.savefig(\"3m.png\")\n",
    "plt.show()"
   ]
  },
  {
   "cell_type": "code",
   "execution_count": 30,
   "metadata": {},
   "outputs": [
    {
     "data": {
      "image/png": "[encoded data removed]",
      "text/plain": [
       "<Figure size 432x288 with 1 Axes>"
      ]
     },
     "metadata": {
      "needs_background": "light"
     },
     "output_type": "display_data"
    }
   ],
   "source": [
    "sample = data\n",
    "initial_medians = [[df.iloc[0][var_x], df.iloc[0][var_y]], [df.iloc[220][var_x], df.iloc[220][var_y]], \n",
    "                   [df.iloc[110][var_x], df.iloc[110][var_y]], [df.iloc[330][var_x], df.iloc[330][var_y]]]\n",
    "kmedians_instance = kmedians(sample, initial_medians)\n",
    "\n",
    "kmedians_instance.process()\n",
    "clusters = kmedians_instance.get_clusters()\n",
    "medians = kmedians_instance.get_medians()\n",
    "visualizer = cluster_visualizer()\n",
    "visualizer.append_clusters(clusters, sample)\n",
    "\n",
    "first_x = []\n",
    "first_y = []\n",
    "second_x = []\n",
    "second_y = []\n",
    "third_x = []\n",
    "third_y = []\n",
    "forth_x = []\n",
    "forth_y = []\n",
    "for i in clusters[0]:\n",
    "    first_x.append(df.loc[i][var_x])\n",
    "    first_y.append(df.loc[i][var_y])\n",
    "for i in clusters[1]:\n",
    "    second_x.append(df.loc[i][var_x])\n",
    "    second_y.append(df.loc[i][var_y])\n",
    "for i in clusters[2]:\n",
    "    third_x.append(df.loc[i][var_x])\n",
    "    third_y.append(df.loc[i][var_y])\n",
    "for i in clusters[3]:\n",
    "    forth_x.append(df.loc[i][var_x])\n",
    "    forth_y.append(df.loc[i][var_y])\n",
    "      \n",
    "        \n",
    "\n",
    "plt.scatter(first_x, first_y,c='violet')\n",
    "plt.scatter(second_x, second_y)\n",
    "plt.scatter(third_x, third_y, c=\"yellow\")\n",
    "plt.scatter(forth_x, forth_y)\n",
    "plt.xlabel(u\"х\")\n",
    "plt.ylabel(u\"у\")\n",
    "plt.title(\"Метод k-медиан; k=4\")\n",
    "plt.savefig(\"4m.png\")\n",
    "plt.show()\n"
   ]
  },
  {
   "cell_type": "code",
   "execution_count": null,
   "metadata": {},
   "outputs": [],
   "source": []
  }
 ],
 "metadata": {
  "kernelspec": {
   "display_name": "Python 3",
   "language": "python",
   "name": "python3"
  },
  "language_info": {
   "codemirror_mode": {
    "name": "ipython",
    "version": 3
   },
   "file_extension": ".py",
   "mimetype": "text/x-python",
   "name": "python",
   "nbconvert_exporter": "python",
   "pygments_lexer": "ipython3",
   "version": "3.7.1"
  }
 },
 "nbformat": 4,
 "nbformat_minor": 2
}
