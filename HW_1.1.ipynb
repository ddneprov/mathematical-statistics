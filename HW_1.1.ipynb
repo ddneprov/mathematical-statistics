{
 "cells": [
  {
   "cell_type": "code",
   "execution_count": 97,
   "metadata": {},
   "outputs": [],
   "source": [
    "import math\n",
    "import random\n",
    "import numpy as np\n",
    "import matplotlib.pyplot as plt\n",
    "import scipy.stats as sc"
   ]
  },
  {
   "cell_type": "code",
   "execution_count": 98,
   "metadata": {},
   "outputs": [],
   "source": [
    "def iF(x):\n",
    "    if x >= 1 or x <= 0:\n",
    "    #if x <= 0:    \n",
    "        return 0\n",
    "    else:\n",
    "        return (math.log2(1 - x))**2"
   ]
  },
  {
   "cell_type": "code",
   "execution_count": 99,
   "metadata": {},
   "outputs": [],
   "source": [
    "def Gen(count):\n",
    "    np.random.seed()\n",
    "    X = np.random.uniform(0,1,count)\n",
    "    y = np.zeros([X.shape[0]])\n",
    "    for i in range(X.shape[0]):\n",
    "        y[i] = iF(X[i])\n",
    "    return y"
   ]
  },
  {
   "cell_type": "code",
   "execution_count": 100,
   "metadata": {},
   "outputs": [
    {
     "data": {
      "text/plain": [
       "(array([881.,  69.,  24.,  12.,   4.,   5.,   2.,   0.,   0.,   3.]),\n",
       " array([8.38988603e-07, 8.69670004e+00, 1.73933992e+01, 2.60900984e+01,\n",
       "        3.47867976e+01, 4.34834968e+01, 5.21801960e+01, 6.08768952e+01,\n",
       "        6.95735944e+01, 7.82702936e+01, 8.69669928e+01]),\n",
       " <a list of 10 Patch objects>)"
      ]
     },
     "execution_count": 100,
     "metadata": {},
     "output_type": "execute_result"
    },
    {
     "data": {
      "image/png": "[encoded data removed]",
      "text/plain": [
       "<Figure size 432x288 with 1 Axes>"
      ]
     },
     "metadata": {
      "needs_background": "light"
     },
     "output_type": "display_data"
    }
   ],
   "source": [
    "plt.hist(x = Gen(1000), bins = 10)"
   ]
  },
  {
   "cell_type": "code",
   "execution_count": 101,
   "metadata": {},
   "outputs": [],
   "source": [
    "def Check(count):\n",
    "    y = Gen(count)\n",
    "    ym = y.mean()\n",
    "    ys = y.std()**2 * y.shape[0] / (y.shape[0]  - 1)\n",
    "    t = sc.t.ppf(0.975, count - 1)\n",
    "    lhv = ym - t * (math.sqrt(ys)/math.sqrt(count))\n",
    "    rhv = ym + t * (math.sqrt(ys)/math.sqrt(count))\n",
    "    #print(\"count = \", count , \"t = \", t)\n",
    "    E = 2\n",
    "    return E > lhv and E < rhv"
   ]
  },
  {
   "cell_type": "code",
   "execution_count": 102,
   "metadata": {},
   "outputs": [
    {
     "name": "stdout",
     "output_type": "stream",
     "text": [
      "доля для 10 =  0.944\n",
      "доля для 15 =  0.961\n",
      "доля для 20 =  0.93\n",
      "доля для 25 =  0.903\n",
      "доля для 30 =  0.863\n"
     ]
    },
    {
     "data": {
      "text/plain": [
       "[<matplotlib.lines.Line2D at 0x1a17b56fd0>]"
      ]
     },
     "execution_count": 102,
     "metadata": {},
     "output_type": "execute_result"
    },
    {
     "data": {
      "image/png": "[encoded data removed]",
      "text/plain": [
       "<Figure size 432x288 with 1 Axes>"
      ]
     },
     "metadata": {
      "needs_background": "light"
     },
     "output_type": "display_data"
    }
   ],
   "source": [
    "countTrueList = []\n",
    "for i in range(10, 35, 5):\n",
    "    countTrue = 0\n",
    "    for j in range(1000):\n",
    "        if Check(i):\n",
    "            countTrue += 1\n",
    "    countTrueList.append(countTrue / 1000)\n",
    "print('доля для 10 = ', countTrueList[0])\n",
    "print('доля для 15 = ', countTrueList[1])\n",
    "print('доля для 20 = ', countTrueList[2])\n",
    "print('доля для 25 = ', countTrueList[3])\n",
    "print('доля для 30 = ', countTrueList[4])\n",
    "plt.plot([0 + i for i in range(10, 35, 5)], countTrueList)\n",
    "plt.plot([0 + i for i in range(10, 35, 5)], countTrueList, 'ro')"
   ]
  },
  {
   "cell_type": "code",
   "execution_count": null,
   "metadata": {},
   "outputs": [],
   "source": []
  }
 ],
 "metadata": {
  "kernelspec": {
   "display_name": "Python 3",
   "language": "python",
   "name": "python3"
  },
  "language_info": {
   "codemirror_mode": {
    "name": "ipython",
    "version": 3
   },
   "file_extension": ".py",
   "mimetype": "text/x-python",
   "name": "python",
   "nbconvert_exporter": "python",
   "pygments_lexer": "ipython3",
   "version": "3.7.1"
  }
 },
 "nbformat": 4,
 "nbformat_minor": 2
}
